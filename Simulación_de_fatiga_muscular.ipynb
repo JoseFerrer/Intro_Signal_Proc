{
  "nbformat": 4,
  "nbformat_minor": 0,
  "metadata": {
    "colab": {
      "name": "Simulación de fatiga muscular.ipynb",
      "private_outputs": true,
      "provenance": [],
      "collapsed_sections": [],
      "include_colab_link": true
    },
    "kernelspec": {
      "name": "python3",
      "display_name": "Python 3"
    }
  },
  "cells": [
    {
      "cell_type": "markdown",
      "metadata": {
        "id": "view-in-github",
        "colab_type": "text"
      },
      "source": [
        "<a href=\"https://colab.research.google.com/github/JoseFerrer/Intro_Signal_Proc/blob/main/Simulaci%C3%B3n_de_fatiga_muscular.ipynb\" target=\"_parent\"><img src=\"https://colab.research.google.com/assets/colab-badge.svg\" alt=\"Open In Colab\"/></a>"
      ]
    },
    {
      "cell_type": "markdown",
      "metadata": {
        "id": "HPTWEL2-BuWa"
      },
      "source": [
        "# **Simulación de fatiga muscular**\n",
        "\n",
        "\n",
        "Este notebook usa [PyMuscle](https://github.com/iandanforth/pymuscle) una librería escrita en Python y que está basada en el paper  [**A motor unit-based model of muscle fatigue** de Potvin & Fuglevand (2017)](http://journals.plos.org/ploscompbiol/article?id=10.1371/journal.pcbi.1005581). PyMuscle se enfoca en la relación entra las señales de control (estimulación de las entradas a las neuronas motoras) y la salida por unidad motora, sin embargo, la simulación sucede para una población de unidades motoras.\n"
      ]
    },
    {
      "cell_type": "markdown",
      "metadata": {
        "id": "d-1k6i6yawD5"
      },
      "source": [
        "**¿Qué es la fatiga muscular?**\n",
        "\n",
        "Es el declive temporal de la fuerza y capacidad de los músculos esqueléticos resultando en la disminución de actividad muscular.\n",
        "\n",
        "**¿Qué aplicaciones tiene un modelo y el estudio de la fatiga muscular?**\n",
        "\n",
        "- Ergonomía\n",
        "- Rehabilitación\n",
        "- Ejercicio y deporte\n",
        "\n",
        "**¿En qué condiciones se realiza la simulación?**\n",
        "\n",
        "Solamente se simula la fatiga de las unidades motoras asociadas a contracciones \n",
        "- Sostenidas\n",
        "- Isométrias\n",
        "\n",
        "**¿Qué preguntas puede responder el modelo de simulación?**\n",
        "\n",
        "- Cómo varía la contribución de las fuerzas de unidades motoras individuales a través del tiempo\n",
        "- Qué subpoblaciones de unidades motoras soportan los mayores grados de fatiga para diferentes tipos de contracciones\n",
        "- Para tareas que alcanzan el mismo nivel de pérdida de la fuerza muscular, ¿las unidades motoras individuales se fatigan en el mismo grado?\n"
      ]
    },
    {
      "cell_type": "markdown",
      "metadata": {
        "id": "UShsObj0EwT0"
      },
      "source": [
        "### **Instalación de la librería PyMuscle**"
      ]
    },
    {
      "cell_type": "code",
      "metadata": {
        "id": "9hd09iu2u0d1"
      },
      "source": [
        "!pip install pymuscle"
      ],
      "execution_count": null,
      "outputs": []
    },
    {
      "cell_type": "markdown",
      "metadata": {
        "id": "xxCD-TUNE2Ot"
      },
      "source": [
        "### **Importación de las librerías**"
      ]
    },
    {
      "cell_type": "code",
      "metadata": {
        "id": "V1CaBQKevcVu"
      },
      "source": [
        "import numpy as np\n",
        "from tqdm.notebook import tqdm\n",
        "from pymuscle import PotvinFuglevandMuscle as Muscle\n",
        "from pymuscle.vis import PotvinChart\n",
        "import plotly.graph_objects as go\n",
        "import matplotlib.pyplot as plt\n"
      ],
      "execution_count": null,
      "outputs": []
    },
    {
      "cell_type": "code",
      "metadata": {
        "id": "y3zy7gKvvIaY",
        "cellView": "form"
      },
      "source": [
        "#@title Función para mostrar el gráfico de fuerzas\n",
        "def display(self):\n",
        "    # Per Motor Unit Force\n",
        "    data = []\n",
        "    for i, t in enumerate(self._forces_by_time):\n",
        "        trace = dict(\n",
        "            x=self._times,\n",
        "            y=t,\n",
        "            name=i + 1,\n",
        "            marker=dict(\n",
        "                color=self._get_color(i)\n",
        "            ),\n",
        "        )\n",
        "        data.append(trace)\n",
        "\n",
        "    layout = dict(\n",
        "        title='Fuerza de las unidades motoras por Tiempo',\n",
        "        yaxis=dict(\n",
        "            title='Fuerza de las unidades motoras'\n",
        "        ),\n",
        "        xaxis=dict(\n",
        "            title='Tiempo (s)'\n",
        "        )\n",
        "    )\n",
        "\n",
        "    fig = dict(\n",
        "        data=data,\n",
        "        layout=layout\n",
        "    )\n",
        "    return fig"
      ],
      "execution_count": null,
      "outputs": []
    },
    {
      "cell_type": "markdown",
      "metadata": {
        "id": "X_mUACLvT1QM"
      },
      "source": [
        "## **Parámetros de la simulación**"
      ]
    },
    {
      "cell_type": "markdown",
      "metadata": {
        "id": "MdpXtPlpOuJ_"
      },
      "source": [
        "### **Músculo a simular**\n",
        "\n",
        "Vamos a simular el [el primer músculo interóseo dorsal de la mano](https://es.wikipedia.org/wiki/M%C3%BAsculos_inter%C3%B3seos_dorsales_de_la_mano)\n",
        "\n",
        "Y se puede observar a continuación\n",
        "\n",
        "![](https://upload.wikimedia.org/wikipedia/commons/5/57/1121_Intrinsic_Muscles_of_the_Hand_DIL.png)\n",
        "\n"
      ]
    },
    {
      "cell_type": "markdown",
      "metadata": {
        "id": "ck2hjwB-U5z8"
      },
      "source": [
        "### **Número de unidades motoras**\n",
        "\n",
        "\n",
        "\n"
      ]
    },
    {
      "cell_type": "code",
      "metadata": {
        "id": "wFeJJYAVU-sH"
      },
      "source": [
        "motor_unit_count = 119 \n",
        "muscle = Muscle(motor_unit_count)"
      ],
      "execution_count": null,
      "outputs": []
    },
    {
      "cell_type": "markdown",
      "metadata": {
        "id": "rh4vMigUU_Gq"
      },
      "source": [
        "De acuerdo a al paper **[Morphologic studies of motor units in normal human muscles](https://drive.google.com/open?id=1XZLDO-2itC_7stQucxklM4UJ7UXy3f8K)** de Feinstein, B., Lindegård, B., Nyman, E., & Wohlfart, G. (1955) publicado en  Cells Tissues Organs, 23(2), 127-142 el primer músculo interóseo dorsal de la mano tiene 119 unidades motoras.\n",
        "\n",
        "![](https://drive.google.com/uc?id=1zKvjQ3tjJFJeab18tD3WZrfYdUbtupg-)"
      ]
    },
    {
      "cell_type": "markdown",
      "metadata": {
        "id": "jNJLVcoSU7Yc"
      },
      "source": [
        "### **Fuerza máxima voluntaria**\n",
        "\n"
      ]
    },
    {
      "cell_type": "markdown",
      "metadata": {
        "id": "bBx48iSFiw7H"
      },
      "source": [
        "La fuera máxima voluntaria del primer músculo interóseo dorsal de la mano se estima en 32 ± 12 Newtons (rango: 17–55 N)  de acuerdo al paper **[EMG-force relation in the first dorsal interosseous muscle of patients with amyotrophic lateral sclerosis](https://www.ncbi.nlm.nih.gov/pubmed/24990032)** de Jahanmiri-Nezhad, F., Hu, X., Suresh, N. L., Rymer, W. Z., & Zhou, P. (2014) publicado en NeuroRehabilitation, 35(2), 307-314."
      ]
    },
    {
      "cell_type": "markdown",
      "metadata": {
        "id": "kGGcO4iKndL-"
      },
      "source": [
        "### **Otros parámetros de la simulación**"
      ]
    },
    {
      "cell_type": "markdown",
      "metadata": {
        "id": "dnyurWrrdQEe"
      },
      "source": [
        "- Con pocas excepciones, las unidades motoras parecen ser reclutadas en una secuencia ordenada, comenzando con los que ejercen las menores fuerzas hasta lo que ejercen las mayores\n",
        "\n",
        "- El mecanismo neuronal subyacente al reclutamiento ordenado de las unidades motoras (de débiles y menos fatigables a fuertes y más fatigables) han sido estudiados por Hanneman y conocido como \"size principle\". Puede ver más [aquí](https://journals.physiology.org/doi/pdf/10.1152/classicessays.00025.2005)\n",
        "\n",
        "- Una vez reclutada una unidad motoral incrementa su firing rate con una excitación sináptica incrementada en un rango limitado de valores antes de saturarse a niveles que parecieran inversamente relacionados al threshold de reclutamiento de las unidades motoras.\n"
      ]
    },
    {
      "cell_type": "code",
      "metadata": {
        "id": "4jIex5knkyLY"
      },
      "source": [
        "#@title Estímulo { run: \"auto\" }\n",
        "#Usar un nivel constante de estímulo para observar la fatiga\n",
        "#@markdown A continuación puede cambiar el \n",
        "#@markdown nivel de esfuerzo aplicado al músculo\n",
        "excitation = 20 #@param {type:\"slider\", min:0, max:100, step:1}\n",
        "tiempo_a_simular = 200 #@param [\"200\"] {type:\"raw\", allow-input: false}\n",
        "frames_per_second = 50 #@param [\"50\"] {type:\"raw\", allow-input: false}\n",
        "step_size = 1 / frames_per_second\n",
        "total_steps = int(tiempo_a_simular / step_size)\n",
        "total_outputs = []\n",
        "outputs_by_unit = []\n",
        "print(\"Empezando simulación...\")\n",
        "for i in tqdm(range(total_steps)):\n",
        "    # Calling step() updates the simulation and returns the total output\n",
        "    # produced by the muscle during this step for the given excitation level.\n",
        "    total_output = muscle.step(excitation, step_size)\n",
        "    total_outputs.append(total_output)\n",
        "    # You can also introspect the muscle to see the forces being produced\n",
        "    # by each motor unit.\n",
        "    output_by_unit = muscle.current_forces\n",
        "    outputs_by_unit.append(output_by_unit)\n",
        "print(\"Simulación ejecutada para {} segundos ...\".format(tiempo_a_simular))\n",
        "# Visualizar el comporamiento de las unidades motoras a través del tiempo\n",
        "print(\"Creando gráfico...\")\n",
        "chart = PotvinChart(outputs_by_unit,step_size)\n",
        "fig = go.Figure( **display(chart) )\n",
        "fig.show()  "
      ],
      "execution_count": null,
      "outputs": []
    },
    {
      "cell_type": "markdown",
      "metadata": {
        "id": "rw4K09pyopOC"
      },
      "source": [
        "# **Práctica Dirigida**\n",
        "\n",
        "## **Ejercicio 01 (10 puntos)**\n",
        "A diferencia del código anterior en el que el esfuerzo es constante, genere una función de esfuerzo variable. **Nota:** Recuerde que las señales deben ser totalmente positivas y tener como valor máximo `excitation`. Se provee como ejemplo la función constante."
      ]
    },
    {
      "cell_type": "code",
      "metadata": {
        "id": "KmStJAhRhu8x"
      },
      "source": [
        "#@title Estímulo { run: \"auto\" }\n",
        "#Usar un nivel constante de estímulo para observar la fatiga\n",
        "#@markdown A continuación puede cambiar el \n",
        "#@markdown nivel de esfuerzo aplicado al músculo\n",
        "excitation = 75 #@param {type:\"slider\", min:0, max:100, step:1}\n",
        "tipo_onda = \"constant\" #@param [\"constant\", \"square\", \"sine\"]\n",
        "tiempo_a_simular = 200 #@param [\"200\"] {type:\"raw\", allow-input: false}\n",
        "frames_per_second = 50 #@param [\"50\"] {type:\"raw\", allow-input: false}\n",
        "seconds_per_period = 34 #@param {type:\"slider\", min:1, max:200, step:1}\n",
        " \n",
        "\n",
        "##### Desarrolle su código a partir de aquí ######\n",
        "time = np.linspace( 0, tiempo_a_simular, frames_per_second*tiempo_a_simular)\n",
        "\n",
        "if tipo_onda == 'constant':\n",
        "  signal = time*0+excitation\n",
        "elif tipo_onda == 'square':\n",
        "  ##### Desarrolle su código aquí\n",
        "  #signal = \n",
        "\n",
        "  print(\"Falta Implementar\") #puede eliminar\n",
        "elif tipo_onda == 'sine':\n",
        "  ##### Desarrolle su código aquí\n",
        "  #signal =   \n",
        "  \n",
        "  print(\"Falta Implementar\") #puede eliminar\n",
        "\n",
        "#Plot\n",
        "plt.figure(figsize=(20,5))\n",
        "plt.title(\"Excitation x Tiempo\")\n",
        "plt.xlabel(\"Tiempo (s)\")\n",
        "plt.ylabel(\"Excitation\")\n",
        "plt.plot(time, signal)"
      ],
      "execution_count": null,
      "outputs": []
    },
    {
      "cell_type": "markdown",
      "metadata": {
        "id": "dfroMrLtrv8k"
      },
      "source": [
        "## **Ejercicio 02 (10 puntos)**\n",
        "\n",
        "Simule e indique qué tipo de esfuerzo fatiga los músculos (I) más rápido, (II) más lento. Explique cuales son las implicancias"
      ]
    },
    {
      "cell_type": "code",
      "metadata": {
        "id": "DFL8PirNqsBu"
      },
      "source": [
        "step_size = 1 / frames_per_second\n",
        "total_steps = int(tiempo_a_simular / step_size)\n",
        "total_outputs = []\n",
        "outputs_by_unit = []\n",
        "print(\"Empezando simulación...\")\n",
        "for i in tqdm(range(total_steps)):\n",
        "    # Calling step() updates the simulation and returns the total output\n",
        "    # produced by the muscle during this step for the given excitation level.\n",
        "    total_output = muscle.step(signal[i], step_size)\n",
        "    total_outputs.append(total_output)\n",
        "    # You can also introspect the muscle to see the forces being produced\n",
        "    # by each motor unit.\n",
        "    output_by_unit = muscle.current_forces\n",
        "    outputs_by_unit.append(output_by_unit)\n",
        "print(\"Simulación ejecutada para {} segundos ...\".format(tiempo_a_simular))\n",
        "# Visualizar el comporamiento de las unidades motoras a través del tiempo\n",
        "print(\"Creando gráfico...\")\n",
        "chart = PotvinChart(outputs_by_unit,step_size)\n",
        "fig = go.Figure( **display(chart) )\n",
        "fig.show()  "
      ],
      "execution_count": null,
      "outputs": []
    },
    {
      "cell_type": "code",
      "metadata": {
        "id": "nd2Tq9Xgv0Cj"
      },
      "source": [
        ""
      ],
      "execution_count": null,
      "outputs": []
    }
  ]
}